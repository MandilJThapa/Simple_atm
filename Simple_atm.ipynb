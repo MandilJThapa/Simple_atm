{
 "cells": [
  {
   "cell_type": "code",
   "execution_count": 1,
   "id": "436530b6",
   "metadata": {},
   "outputs": [
    {
     "name": "stdout",
     "output_type": "stream",
     "text": [
      "\n",
      "            How you would like to proceed?\n",
      "            1. Enter 1 to create pin\n",
      "            2. Enter 2 to deposit\n",
      "            3. Enter 3 to withdraw\n",
      "            4. Enter 4 to check balance\n",
      "            5. Enter 5 to exit\n",
      "        1\n",
      "Enter your pin: 4455\n",
      "Pin set successfully\n"
     ]
    }
   ],
   "source": [
    "class Atm:\n",
    "    def __init__(self):\n",
    "        self.pin = \"\"\n",
    "        self.balance = 0\n",
    "        self.menu()\n",
    "\n",
    "    def menu(self):\n",
    "        user_input = input(\"\"\"\n",
    "            How you would like to proceed?\n",
    "            1. Enter 1 to create pin\n",
    "            2. Enter 2 to deposit\n",
    "            3. Enter 3 to withdraw\n",
    "            4. Enter 4 to check balance\n",
    "            5. Enter 5 to exit\n",
    "        \"\"\")\n",
    "\n",
    "        if user_input == \"1\":\n",
    "            self.create_pin()\n",
    "\n",
    "        elif user_input == \"2\":\n",
    "            self.deposit()\n",
    "\n",
    "        elif user_input == \"3\":\n",
    "            self.withdraw()\n",
    "\n",
    "        elif user_input == \"4\":\n",
    "            self.check_balance()\n",
    "\n",
    "        else:\n",
    "            print('bye')\n",
    "\n",
    "    def create_pin(self):\n",
    "        self.pin = input(\"Enter your pin: \")\n",
    "        print('Pin set successfully')\n",
    "\n",
    "    def deposit(self):\n",
    "        temp = input(\"Enter your pin: \")\n",
    "        if temp == self.pin:\n",
    "            amount = int(input(\"Enter the amount: \"))\n",
    "            self.balance = self.balance + amount\n",
    "            print(\"Deposit successful\")\n",
    "        else:\n",
    "            print('Invalid pin')\n",
    "\n",
    "    def withdraw(self):\n",
    "        temp = input(\"Enter your pin: \")\n",
    "        if temp == self.pin:\n",
    "            amount = int(input(\"Enter the amount: \"))\n",
    "            if amount <= self.balance:\n",
    "                self.balance = self.balance - amount\n",
    "                print(\"Withdraw successful\")\n",
    "            else:\n",
    "                print('Insufficient funds')\n",
    "        else:\n",
    "            print('Invalid PIN')\n",
    "\n",
    "    def check_balance(self):\n",
    "        temp = input(\"Enter your pin: \")\n",
    "        if temp == self.pin:\n",
    "            print(f\"Your balance: {self.balance}\")\n",
    "        else:\n",
    "            print(\"Invalid pin\")\n",
    "\n",
    "\n",
    "# Example usage\n",
    "atm_instance = Atm()\n"
   ]
  },
  {
   "cell_type": "code",
   "execution_count": 2,
   "id": "08eac5df",
   "metadata": {},
   "outputs": [
    {
     "data": {
      "text/plain": [
       "0"
      ]
     },
     "execution_count": 2,
     "metadata": {},
     "output_type": "execute_result"
    }
   ],
   "source": [
    "atm_instance.balance"
   ]
  },
  {
   "cell_type": "code",
   "execution_count": 3,
   "id": "cfeeb72f",
   "metadata": {},
   "outputs": [
    {
     "name": "stdout",
     "output_type": "stream",
     "text": [
      "Enter your pin: 4455\n",
      "Enter the amount: 500000\n",
      "Deposit successful\n"
     ]
    }
   ],
   "source": [
    "atm_instance.deposit()"
   ]
  },
  {
   "cell_type": "code",
   "execution_count": 6,
   "id": "6504203e",
   "metadata": {},
   "outputs": [
    {
     "name": "stdout",
     "output_type": "stream",
     "text": [
      "Enter your pin: 4455\n",
      "Enter the amount: 2000\n",
      "Withdraw successful\n"
     ]
    }
   ],
   "source": [
    "atm_instance.withdraw()"
   ]
  },
  {
   "cell_type": "code",
   "execution_count": 7,
   "id": "eb9866ca",
   "metadata": {},
   "outputs": [
    {
     "name": "stdout",
     "output_type": "stream",
     "text": [
      "Enter your pin: 4455\n",
      "Your balance: 498000\n"
     ]
    }
   ],
   "source": [
    "atm_instance.check_balance()"
   ]
  },
  {
   "cell_type": "code",
   "execution_count": 8,
   "id": "2f451d0f",
   "metadata": {},
   "outputs": [
    {
     "name": "stdout",
     "output_type": "stream",
     "text": [
      "\n",
      "            How you would like to proceed?\n",
      "            1. Enter 1 to create pin\n",
      "            2. Enter 2 to deposit\n",
      "            3. Enter 3 to withdraw\n",
      "            4. Enter 4 to check balance\n",
      "            5. Enter 5 to exit\n",
      "        5\n",
      "bye\n"
     ]
    }
   ],
   "source": [
    "atm_instance.menu()"
   ]
  },
  {
   "cell_type": "code",
   "execution_count": null,
   "id": "f581bc91",
   "metadata": {},
   "outputs": [],
   "source": []
  }
 ],
 "metadata": {
  "kernelspec": {
   "display_name": "Python 3 (ipykernel)",
   "language": "python",
   "name": "python3"
  },
  "language_info": {
   "codemirror_mode": {
    "name": "ipython",
    "version": 3
   },
   "file_extension": ".py",
   "mimetype": "text/x-python",
   "name": "python",
   "nbconvert_exporter": "python",
   "pygments_lexer": "ipython3",
   "version": "3.11.5"
  }
 },
 "nbformat": 4,
 "nbformat_minor": 5
}
